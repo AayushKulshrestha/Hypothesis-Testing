{
 "cells": [
  {
   "cell_type": "markdown",
   "id": "07677f78",
   "metadata": {},
   "source": [
    "#### package import"
   ]
  },
  {
   "cell_type": "code",
   "execution_count": 1,
   "id": "ad1908ce",
   "metadata": {},
   "outputs": [],
   "source": [
    "import numpy as np\n",
    "import pandas as pd\n",
    "import matplotlib.pyplot as plt\n",
    "import seaborn as sns\n",
    "\n",
    "%matplotlib inline\n",
    "\n",
    "import scipy.stats as stats"
   ]
  },
  {
   "cell_type": "markdown",
   "id": "409efe3f",
   "metadata": {},
   "source": [
    "#### import the data"
   ]
  },
  {
   "cell_type": "code",
   "execution_count": 3,
   "id": "6a3db0af",
   "metadata": {},
   "outputs": [],
   "source": [
    "cust = pd.read_csv('D:/Sampledata/cust_seg.csv')"
   ]
  },
  {
   "cell_type": "markdown",
   "id": "44ab175b",
   "metadata": {},
   "source": [
    "#### Metadata nd data inspection"
   ]
  },
  {
   "cell_type": "code",
   "execution_count": 4,
   "id": "8da3eb61",
   "metadata": {},
   "outputs": [
    {
     "name": "stdout",
     "output_type": "stream",
     "text": [
      "<class 'pandas.core.frame.DataFrame'>\n",
      "RangeIndex: 200 entries, 0 to 199\n",
      "Data columns (total 10 columns):\n",
      " #   Column               Non-Null Count  Dtype  \n",
      "---  ------               --------------  -----  \n",
      " 0   custid               200 non-null    int64  \n",
      " 1   sex                  200 non-null    int64  \n",
      " 2   AqChannel            200 non-null    int64  \n",
      " 3   region               200 non-null    int64  \n",
      " 4   Marital_status       200 non-null    int64  \n",
      " 5   segment              200 non-null    int64  \n",
      " 6   pre_usage            200 non-null    int64  \n",
      " 7   Post_usage_1month    200 non-null    int64  \n",
      " 8   Latest_mon_usage     200 non-null    float64\n",
      " 9   post_usage_2ndmonth  200 non-null    float64\n",
      "dtypes: float64(2), int64(8)\n",
      "memory usage: 15.8 KB\n"
     ]
    }
   ],
   "source": [
    "cust.info()"
   ]
  },
  {
   "cell_type": "code",
   "execution_count": 5,
   "id": "55f7ad53",
   "metadata": {},
   "outputs": [
    {
     "data": {
      "text/html": [
       "<div>\n",
       "<style scoped>\n",
       "    .dataframe tbody tr th:only-of-type {\n",
       "        vertical-align: middle;\n",
       "    }\n",
       "\n",
       "    .dataframe tbody tr th {\n",
       "        vertical-align: top;\n",
       "    }\n",
       "\n",
       "    .dataframe thead th {\n",
       "        text-align: right;\n",
       "    }\n",
       "</style>\n",
       "<table border=\"1\" class=\"dataframe\">\n",
       "  <thead>\n",
       "    <tr style=\"text-align: right;\">\n",
       "      <th></th>\n",
       "      <th>custid</th>\n",
       "      <th>sex</th>\n",
       "      <th>AqChannel</th>\n",
       "      <th>region</th>\n",
       "      <th>Marital_status</th>\n",
       "      <th>segment</th>\n",
       "      <th>pre_usage</th>\n",
       "      <th>Post_usage_1month</th>\n",
       "      <th>Latest_mon_usage</th>\n",
       "      <th>post_usage_2ndmonth</th>\n",
       "    </tr>\n",
       "  </thead>\n",
       "  <tbody>\n",
       "    <tr>\n",
       "      <th>0</th>\n",
       "      <td>70</td>\n",
       "      <td>0</td>\n",
       "      <td>4</td>\n",
       "      <td>1</td>\n",
       "      <td>1</td>\n",
       "      <td>1</td>\n",
       "      <td>57</td>\n",
       "      <td>52</td>\n",
       "      <td>49.2</td>\n",
       "      <td>57.2</td>\n",
       "    </tr>\n",
       "    <tr>\n",
       "      <th>1</th>\n",
       "      <td>121</td>\n",
       "      <td>1</td>\n",
       "      <td>4</td>\n",
       "      <td>2</td>\n",
       "      <td>1</td>\n",
       "      <td>3</td>\n",
       "      <td>68</td>\n",
       "      <td>59</td>\n",
       "      <td>63.6</td>\n",
       "      <td>64.9</td>\n",
       "    </tr>\n",
       "    <tr>\n",
       "      <th>2</th>\n",
       "      <td>86</td>\n",
       "      <td>0</td>\n",
       "      <td>4</td>\n",
       "      <td>3</td>\n",
       "      <td>1</td>\n",
       "      <td>1</td>\n",
       "      <td>44</td>\n",
       "      <td>33</td>\n",
       "      <td>64.8</td>\n",
       "      <td>36.3</td>\n",
       "    </tr>\n",
       "    <tr>\n",
       "      <th>3</th>\n",
       "      <td>141</td>\n",
       "      <td>0</td>\n",
       "      <td>4</td>\n",
       "      <td>3</td>\n",
       "      <td>1</td>\n",
       "      <td>3</td>\n",
       "      <td>63</td>\n",
       "      <td>44</td>\n",
       "      <td>56.4</td>\n",
       "      <td>48.4</td>\n",
       "    </tr>\n",
       "    <tr>\n",
       "      <th>4</th>\n",
       "      <td>172</td>\n",
       "      <td>0</td>\n",
       "      <td>4</td>\n",
       "      <td>2</td>\n",
       "      <td>1</td>\n",
       "      <td>2</td>\n",
       "      <td>47</td>\n",
       "      <td>52</td>\n",
       "      <td>68.4</td>\n",
       "      <td>57.2</td>\n",
       "    </tr>\n",
       "  </tbody>\n",
       "</table>\n",
       "</div>"
      ],
      "text/plain": [
       "   custid  sex  AqChannel  region  Marital_status  segment  pre_usage  \\\n",
       "0      70    0          4       1               1        1         57   \n",
       "1     121    1          4       2               1        3         68   \n",
       "2      86    0          4       3               1        1         44   \n",
       "3     141    0          4       3               1        3         63   \n",
       "4     172    0          4       2               1        2         47   \n",
       "\n",
       "   Post_usage_1month  Latest_mon_usage  post_usage_2ndmonth  \n",
       "0                 52              49.2                 57.2  \n",
       "1                 59              63.6                 64.9  \n",
       "2                 33              64.8                 36.3  \n",
       "3                 44              56.4                 48.4  \n",
       "4                 52              68.4                 57.2  "
      ]
     },
     "execution_count": 5,
     "metadata": {},
     "output_type": "execute_result"
    }
   ],
   "source": [
    "cust.head()"
   ]
  },
  {
   "cell_type": "code",
   "execution_count": 6,
   "id": "6e7f73b6",
   "metadata": {},
   "outputs": [
    {
     "data": {
      "text/plain": [
       "custid                 200\n",
       "sex                      2\n",
       "AqChannel                4\n",
       "region                   3\n",
       "Marital_status           2\n",
       "segment                  3\n",
       "pre_usage               30\n",
       "Post_usage_1month       29\n",
       "Latest_mon_usage        40\n",
       "post_usage_2ndmonth     29\n",
       "dtype: int64"
      ]
     },
     "execution_count": 6,
     "metadata": {},
     "output_type": "execute_result"
    }
   ],
   "source": [
    "cust.nunique()"
   ]
  },
  {
   "cell_type": "code",
   "execution_count": 8,
   "id": "4ce333e6",
   "metadata": {},
   "outputs": [
    {
     "data": {
      "text/plain": [
       "Index(['custid', 'sex', 'AqChannel', 'region', 'Marital_status', 'segment',\n",
       "       'pre_usage', 'Post_usage_1month', 'Latest_mon_usage',\n",
       "       'post_usage_2ndmonth'],\n",
       "      dtype='object')"
      ]
     },
     "execution_count": 8,
     "metadata": {},
     "output_type": "execute_result"
    }
   ],
   "source": [
    "cust.columns"
   ]
  },
  {
   "cell_type": "markdown",
   "id": "0301d0d6",
   "metadata": {},
   "source": [
    "#### Q6 - Corelations"
   ]
  },
  {
   "cell_type": "raw",
   "id": "99c87a9e",
   "metadata": {},
   "source": [
    "H0 - No relationship\n",
    "Ha - There is a relationship among the variables\n",
    "\n",
    "CI - 95%\n",
    "p - 0.05"
   ]
  },
  {
   "cell_type": "code",
   "execution_count": 9,
   "id": "e2730150",
   "metadata": {},
   "outputs": [
    {
     "data": {
      "text/plain": [
       "(0.6622801251558603, 1.2767419295069521e-26)"
      ]
     },
     "execution_count": 9,
     "metadata": {},
     "output_type": "execute_result"
    }
   ],
   "source": [
    "stats.pearsonr( cust.pre_usage, cust.Latest_mon_usage )"
   ]
  },
  {
   "cell_type": "markdown",
   "id": "994caa66",
   "metadata": {},
   "source": [
    "#### Q5 - chi square test"
   ]
  },
  {
   "cell_type": "raw",
   "id": "16b233b3",
   "metadata": {},
   "source": [
    "H0 - No relationship\n",
    "Ha - There is a relationship among the variables\n",
    "\n",
    "CI - 95%\n",
    "p - 0.05"
   ]
  },
  {
   "cell_type": "code",
   "execution_count": 12,
   "id": "589e2784",
   "metadata": {},
   "outputs": [],
   "source": [
    "obs_freq = pd.crosstab( cust.region, cust.segment )"
   ]
  },
  {
   "cell_type": "code",
   "execution_count": 14,
   "id": "3fa5612d",
   "metadata": {},
   "outputs": [
    {
     "data": {
      "text/html": [
       "<div>\n",
       "<style scoped>\n",
       "    .dataframe tbody tr th:only-of-type {\n",
       "        vertical-align: middle;\n",
       "    }\n",
       "\n",
       "    .dataframe tbody tr th {\n",
       "        vertical-align: top;\n",
       "    }\n",
       "\n",
       "    .dataframe thead th {\n",
       "        text-align: right;\n",
       "    }\n",
       "</style>\n",
       "<table border=\"1\" class=\"dataframe\">\n",
       "  <thead>\n",
       "    <tr style=\"text-align: right;\">\n",
       "      <th>segment</th>\n",
       "      <th>1</th>\n",
       "      <th>2</th>\n",
       "      <th>3</th>\n",
       "    </tr>\n",
       "    <tr>\n",
       "      <th>region</th>\n",
       "      <th></th>\n",
       "      <th></th>\n",
       "      <th></th>\n",
       "    </tr>\n",
       "  </thead>\n",
       "  <tbody>\n",
       "    <tr>\n",
       "      <th>1</th>\n",
       "      <td>16</td>\n",
       "      <td>19</td>\n",
       "      <td>12</td>\n",
       "    </tr>\n",
       "    <tr>\n",
       "      <th>2</th>\n",
       "      <td>20</td>\n",
       "      <td>44</td>\n",
       "      <td>31</td>\n",
       "    </tr>\n",
       "    <tr>\n",
       "      <th>3</th>\n",
       "      <td>9</td>\n",
       "      <td>42</td>\n",
       "      <td>7</td>\n",
       "    </tr>\n",
       "  </tbody>\n",
       "</table>\n",
       "</div>"
      ],
      "text/plain": [
       "segment   1   2   3\n",
       "region             \n",
       "1        16  19  12\n",
       "2        20  44  31\n",
       "3         9  42   7"
      ]
     },
     "execution_count": 14,
     "metadata": {},
     "output_type": "execute_result"
    }
   ],
   "source": [
    "obs_freq"
   ]
  },
  {
   "cell_type": "code",
   "execution_count": 13,
   "id": "b7960657",
   "metadata": {},
   "outputs": [
    {
     "data": {
      "text/plain": [
       "(16.604441649489342,\n",
       " 0.0023066300908054713,\n",
       " 4,\n",
       " array([[10.575, 24.675, 11.75 ],\n",
       "        [21.375, 49.875, 23.75 ],\n",
       "        [13.05 , 30.45 , 14.5  ]]))"
      ]
     },
     "execution_count": 13,
     "metadata": {},
     "output_type": "execute_result"
    }
   ],
   "source": [
    "stats.chi2_contingency( obs_freq )"
   ]
  },
  {
   "cell_type": "markdown",
   "id": "4474eecc",
   "metadata": {},
   "source": [
    "#### Q4 - ftest or ANOVA"
   ]
  },
  {
   "cell_type": "code",
   "execution_count": 15,
   "id": "2673f026",
   "metadata": {},
   "outputs": [
    {
     "data": {
      "text/plain": [
       "3"
      ]
     },
     "execution_count": 15,
     "metadata": {},
     "output_type": "execute_result"
    }
   ],
   "source": [
    "cust.segment.nunique()"
   ]
  },
  {
   "cell_type": "code",
   "execution_count": 16,
   "id": "15a417ed",
   "metadata": {},
   "outputs": [
    {
     "data": {
      "text/plain": [
       "2    105\n",
       "3     50\n",
       "1     45\n",
       "Name: segment, dtype: int64"
      ]
     },
     "execution_count": 16,
     "metadata": {},
     "output_type": "execute_result"
    }
   ],
   "source": [
    "cust.segment.value_counts()"
   ]
  },
  {
   "cell_type": "code",
   "execution_count": 30,
   "id": "0e5e3c11",
   "metadata": {},
   "outputs": [
    {
     "data": {
      "text/plain": [
       "Index(['custid', 'sex', 'AqChannel', 'region', 'Marital_status', 'segment',\n",
       "       'pre_usage', 'Post_usage_1month', 'Latest_mon_usage',\n",
       "       'post_usage_2ndmonth'],\n",
       "      dtype='object')"
      ]
     },
     "execution_count": 30,
     "metadata": {},
     "output_type": "execute_result"
    }
   ],
   "source": [
    "cust.columns"
   ]
  },
  {
   "cell_type": "code",
   "execution_count": 34,
   "id": "9016702c",
   "metadata": {},
   "outputs": [],
   "source": [
    "usage = 'Latest_mon_usage'"
   ]
  },
  {
   "cell_type": "code",
   "execution_count": 35,
   "id": "b0448fc2",
   "metadata": {},
   "outputs": [
    {
     "name": "stdout",
     "output_type": "stream",
     "text": [
      "mean s1: 60.026666666666685 | mean s2: 68.08000000000003 | mean s3: 55.703999999999986\n"
     ]
    }
   ],
   "source": [
    "# data processing for the test\n",
    "s1 = cust.loc[ cust.segment == 1, usage ]\n",
    "s2 = cust.loc[ cust.segment == 2, usage ]\n",
    "s3 = cust.loc[ cust.segment == 3, usage ]\n",
    "\n",
    "print( 'mean s1:', s1.mean(), '| mean s2:', s2.mean(), '| mean s3:', s3.mean() )"
   ]
  },
  {
   "cell_type": "raw",
   "id": "5d29d7f7",
   "metadata": {},
   "source": [
    "H0 - means are from same population\n",
    "Ha - means are from different population\n",
    "\n",
    "CI - 95%\n",
    "p - 0.05"
   ]
  },
  {
   "cell_type": "code",
   "execution_count": 36,
   "id": "03bd3b89",
   "metadata": {},
   "outputs": [
    {
     "data": {
      "text/plain": [
       "F_onewayResult(statistic=29.279283801321778, pvalue=7.36401083352674e-12)"
      ]
     },
     "execution_count": 36,
     "metadata": {},
     "output_type": "execute_result"
    }
   ],
   "source": [
    "stats.f_oneway( s1, s2, s3 )"
   ]
  },
  {
   "cell_type": "raw",
   "id": "1587dd1c",
   "metadata": {},
   "source": [
    "Business conclusion: \n",
    "Customers from different segments spend differently on the credit cards"
   ]
  },
  {
   "cell_type": "markdown",
   "id": "cf8bcb1b",
   "metadata": {},
   "source": [
    "#### Q1: ttest, 1sample ttest"
   ]
  },
  {
   "cell_type": "code",
   "execution_count": 37,
   "id": "d944bab7",
   "metadata": {},
   "outputs": [
    {
     "data": {
      "text/plain": [
       "52.775"
      ]
     },
     "execution_count": 37,
     "metadata": {},
     "output_type": "execute_result"
    }
   ],
   "source": [
    "cust.Post_usage_1month.mean()"
   ]
  },
  {
   "cell_type": "raw",
   "id": "2ea280fc",
   "metadata": {},
   "source": [
    "H0 - u <= 50\n",
    "Ha - u > 50\n",
    "\n",
    "CI - 95%\n",
    "p - 0.05"
   ]
  },
  {
   "cell_type": "code",
   "execution_count": 39,
   "id": "22c1b0ec",
   "metadata": {},
   "outputs": [
    {
     "data": {
      "text/plain": [
       "Ttest_1sampResult(statistic=4.140324966963024, pvalue=5.120919460716355e-05)"
      ]
     },
     "execution_count": 39,
     "metadata": {},
     "output_type": "execute_result"
    }
   ],
   "source": [
    "stats.ttest_1samp( cust.Post_usage_1month, 50 )"
   ]
  },
  {
   "cell_type": "raw",
   "id": "e4651ca8",
   "metadata": {},
   "source": [
    "Output: We reject the H0\n",
    "    \n",
    "Business Conclusion: Spend on the credit card has increased from last year spend of 50"
   ]
  },
  {
   "cell_type": "markdown",
   "id": "9979ec57",
   "metadata": {},
   "source": [
    "#### Q2: ttest, paired sample ttest or relational ttest"
   ]
  },
  {
   "cell_type": "code",
   "execution_count": 40,
   "id": "6c9c1c76",
   "metadata": {},
   "outputs": [
    {
     "name": "stdout",
     "output_type": "stream",
     "text": [
      "mean of pre usage: 52.23\n",
      "mean of post 1month usage: 52.775\n"
     ]
    }
   ],
   "source": [
    "print( 'mean of pre usage:', cust.pre_usage.mean() )\n",
    "print( 'mean of post 1month usage:', cust.Post_usage_1month.mean() )"
   ]
  },
  {
   "cell_type": "raw",
   "id": "25bc8c23",
   "metadata": {},
   "source": [
    "H0 - u1 <= u2\n",
    "Ha - u1 > u2\n",
    "\n",
    "CI - 95%\n",
    "p - 0.05"
   ]
  },
  {
   "cell_type": "code",
   "execution_count": 42,
   "id": "5493fbcb",
   "metadata": {},
   "outputs": [
    {
     "data": {
      "text/plain": [
       "Ttest_relResult(statistic=-0.8673065458794775, pvalue=0.3868186820914985)"
      ]
     },
     "execution_count": 42,
     "metadata": {},
     "output_type": "execute_result"
    }
   ],
   "source": [
    "stats.ttest_rel( cust.pre_usage, cust.Post_usage_1month )"
   ]
  },
  {
   "cell_type": "raw",
   "id": "4ed65e9d",
   "metadata": {},
   "source": [
    "Output: We fail to reject the H0\n",
    "    \n",
    "Business Conclusion: With the given data, cant be proved that the campaign was sucessful"
   ]
  },
  {
   "cell_type": "markdown",
   "id": "188b4ca8",
   "metadata": {},
   "source": [
    "#### Q3: ttest, independent sample ttest"
   ]
  },
  {
   "cell_type": "code",
   "execution_count": 45,
   "id": "7c4323c2",
   "metadata": {},
   "outputs": [
    {
     "data": {
      "text/plain": [
       "1    109\n",
       "0     91\n",
       "Name: sex, dtype: int64"
      ]
     },
     "execution_count": 45,
     "metadata": {},
     "output_type": "execute_result"
    }
   ],
   "source": [
    "cust.sex.value_counts()"
   ]
  },
  {
   "cell_type": "code",
   "execution_count": 46,
   "id": "e03c0e58",
   "metadata": {},
   "outputs": [
    {
     "data": {
      "text/plain": [
       "Index(['custid', 'sex', 'AqChannel', 'region', 'Marital_status', 'segment',\n",
       "       'pre_usage', 'Post_usage_1month', 'Latest_mon_usage',\n",
       "       'post_usage_2ndmonth'],\n",
       "      dtype='object')"
      ]
     },
     "execution_count": 46,
     "metadata": {},
     "output_type": "execute_result"
    }
   ],
   "source": [
    "cust.columns"
   ]
  },
  {
   "cell_type": "code",
   "execution_count": 51,
   "id": "f2050897",
   "metadata": {},
   "outputs": [
    {
     "name": "stdout",
     "output_type": "stream",
     "text": [
      "mean of male spend:  50.120879120879124 | mean of female spend:  54.99082568807339\n"
     ]
    }
   ],
   "source": [
    "usage = 'Post_usage_1month'\n",
    "\n",
    "male_spend = cust.loc[ cust.sex == 0, usage ]\n",
    "female_spend = cust.loc[ cust.sex == 1, usage ]\n",
    "\n",
    "print( 'mean of male spend: ', male_spend.mean(), '| mean of female spend: ', female_spend.mean() )"
   ]
  },
  {
   "cell_type": "raw",
   "id": "0aa108f9",
   "metadata": {},
   "source": [
    "H0 - u1 = u2\n",
    "Ha - u1 <> u2\n",
    "\n",
    "CI - 95%\n",
    "p - 0.05"
   ]
  },
  {
   "cell_type": "code",
   "execution_count": 52,
   "id": "0324b982",
   "metadata": {},
   "outputs": [
    {
     "data": {
      "text/plain": [
       "Ttest_indResult(statistic=-3.7340738531536797, pvalue=0.00024625461203549315)"
      ]
     },
     "execution_count": 52,
     "metadata": {},
     "output_type": "execute_result"
    }
   ],
   "source": [
    "stats.ttest_ind( male_spend, female_spend )"
   ]
  },
  {
   "cell_type": "code",
   "execution_count": 53,
   "id": "d3bfc389",
   "metadata": {},
   "outputs": [
    {
     "data": {
      "text/plain": [
       "F_onewayResult(statistic=13.94330754080599, pvalue=0.0002462546120354903)"
      ]
     },
     "execution_count": 53,
     "metadata": {},
     "output_type": "execute_result"
    }
   ],
   "source": [
    "stats.f_oneway( male_spend, female_spend )"
   ]
  },
  {
   "cell_type": "code",
   "execution_count": 55,
   "id": "cf4ed37c",
   "metadata": {},
   "outputs": [],
   "source": [
    "cust['NewCol'] = np.where( cust.region == 1, 'N', 'O')"
   ]
  },
  {
   "cell_type": "code",
   "execution_count": 56,
   "id": "5bb4bd4b",
   "metadata": {},
   "outputs": [
    {
     "data": {
      "text/html": [
       "<div>\n",
       "<style scoped>\n",
       "    .dataframe tbody tr th:only-of-type {\n",
       "        vertical-align: middle;\n",
       "    }\n",
       "\n",
       "    .dataframe tbody tr th {\n",
       "        vertical-align: top;\n",
       "    }\n",
       "\n",
       "    .dataframe thead th {\n",
       "        text-align: right;\n",
       "    }\n",
       "</style>\n",
       "<table border=\"1\" class=\"dataframe\">\n",
       "  <thead>\n",
       "    <tr style=\"text-align: right;\">\n",
       "      <th></th>\n",
       "      <th>custid</th>\n",
       "      <th>sex</th>\n",
       "      <th>AqChannel</th>\n",
       "      <th>region</th>\n",
       "      <th>Marital_status</th>\n",
       "      <th>segment</th>\n",
       "      <th>pre_usage</th>\n",
       "      <th>Post_usage_1month</th>\n",
       "      <th>Latest_mon_usage</th>\n",
       "      <th>post_usage_2ndmonth</th>\n",
       "      <th>NewCol</th>\n",
       "    </tr>\n",
       "  </thead>\n",
       "  <tbody>\n",
       "    <tr>\n",
       "      <th>0</th>\n",
       "      <td>70</td>\n",
       "      <td>0</td>\n",
       "      <td>4</td>\n",
       "      <td>1</td>\n",
       "      <td>1</td>\n",
       "      <td>1</td>\n",
       "      <td>57</td>\n",
       "      <td>52</td>\n",
       "      <td>49.2</td>\n",
       "      <td>57.2</td>\n",
       "      <td>N</td>\n",
       "    </tr>\n",
       "    <tr>\n",
       "      <th>1</th>\n",
       "      <td>121</td>\n",
       "      <td>1</td>\n",
       "      <td>4</td>\n",
       "      <td>2</td>\n",
       "      <td>1</td>\n",
       "      <td>3</td>\n",
       "      <td>68</td>\n",
       "      <td>59</td>\n",
       "      <td>63.6</td>\n",
       "      <td>64.9</td>\n",
       "      <td>O</td>\n",
       "    </tr>\n",
       "    <tr>\n",
       "      <th>2</th>\n",
       "      <td>86</td>\n",
       "      <td>0</td>\n",
       "      <td>4</td>\n",
       "      <td>3</td>\n",
       "      <td>1</td>\n",
       "      <td>1</td>\n",
       "      <td>44</td>\n",
       "      <td>33</td>\n",
       "      <td>64.8</td>\n",
       "      <td>36.3</td>\n",
       "      <td>O</td>\n",
       "    </tr>\n",
       "    <tr>\n",
       "      <th>3</th>\n",
       "      <td>141</td>\n",
       "      <td>0</td>\n",
       "      <td>4</td>\n",
       "      <td>3</td>\n",
       "      <td>1</td>\n",
       "      <td>3</td>\n",
       "      <td>63</td>\n",
       "      <td>44</td>\n",
       "      <td>56.4</td>\n",
       "      <td>48.4</td>\n",
       "      <td>O</td>\n",
       "    </tr>\n",
       "    <tr>\n",
       "      <th>4</th>\n",
       "      <td>172</td>\n",
       "      <td>0</td>\n",
       "      <td>4</td>\n",
       "      <td>2</td>\n",
       "      <td>1</td>\n",
       "      <td>2</td>\n",
       "      <td>47</td>\n",
       "      <td>52</td>\n",
       "      <td>68.4</td>\n",
       "      <td>57.2</td>\n",
       "      <td>O</td>\n",
       "    </tr>\n",
       "    <tr>\n",
       "      <th>...</th>\n",
       "      <td>...</td>\n",
       "      <td>...</td>\n",
       "      <td>...</td>\n",
       "      <td>...</td>\n",
       "      <td>...</td>\n",
       "      <td>...</td>\n",
       "      <td>...</td>\n",
       "      <td>...</td>\n",
       "      <td>...</td>\n",
       "      <td>...</td>\n",
       "      <td>...</td>\n",
       "    </tr>\n",
       "    <tr>\n",
       "      <th>195</th>\n",
       "      <td>31</td>\n",
       "      <td>1</td>\n",
       "      <td>2</td>\n",
       "      <td>2</td>\n",
       "      <td>2</td>\n",
       "      <td>1</td>\n",
       "      <td>55</td>\n",
       "      <td>59</td>\n",
       "      <td>62.4</td>\n",
       "      <td>64.9</td>\n",
       "      <td>O</td>\n",
       "    </tr>\n",
       "    <tr>\n",
       "      <th>196</th>\n",
       "      <td>145</td>\n",
       "      <td>1</td>\n",
       "      <td>4</td>\n",
       "      <td>2</td>\n",
       "      <td>1</td>\n",
       "      <td>3</td>\n",
       "      <td>42</td>\n",
       "      <td>46</td>\n",
       "      <td>45.6</td>\n",
       "      <td>50.6</td>\n",
       "      <td>O</td>\n",
       "    </tr>\n",
       "    <tr>\n",
       "      <th>197</th>\n",
       "      <td>187</td>\n",
       "      <td>1</td>\n",
       "      <td>4</td>\n",
       "      <td>2</td>\n",
       "      <td>2</td>\n",
       "      <td>1</td>\n",
       "      <td>57</td>\n",
       "      <td>41</td>\n",
       "      <td>68.4</td>\n",
       "      <td>45.1</td>\n",
       "      <td>O</td>\n",
       "    </tr>\n",
       "    <tr>\n",
       "      <th>198</th>\n",
       "      <td>118</td>\n",
       "      <td>1</td>\n",
       "      <td>4</td>\n",
       "      <td>2</td>\n",
       "      <td>1</td>\n",
       "      <td>1</td>\n",
       "      <td>55</td>\n",
       "      <td>62</td>\n",
       "      <td>69.6</td>\n",
       "      <td>68.2</td>\n",
       "      <td>O</td>\n",
       "    </tr>\n",
       "    <tr>\n",
       "      <th>199</th>\n",
       "      <td>137</td>\n",
       "      <td>1</td>\n",
       "      <td>4</td>\n",
       "      <td>3</td>\n",
       "      <td>1</td>\n",
       "      <td>2</td>\n",
       "      <td>63</td>\n",
       "      <td>65</td>\n",
       "      <td>78.0</td>\n",
       "      <td>71.5</td>\n",
       "      <td>O</td>\n",
       "    </tr>\n",
       "  </tbody>\n",
       "</table>\n",
       "<p>200 rows × 11 columns</p>\n",
       "</div>"
      ],
      "text/plain": [
       "     custid  sex  AqChannel  region  Marital_status  segment  pre_usage  \\\n",
       "0        70    0          4       1               1        1         57   \n",
       "1       121    1          4       2               1        3         68   \n",
       "2        86    0          4       3               1        1         44   \n",
       "3       141    0          4       3               1        3         63   \n",
       "4       172    0          4       2               1        2         47   \n",
       "..      ...  ...        ...     ...             ...      ...        ...   \n",
       "195      31    1          2       2               2        1         55   \n",
       "196     145    1          4       2               1        3         42   \n",
       "197     187    1          4       2               2        1         57   \n",
       "198     118    1          4       2               1        1         55   \n",
       "199     137    1          4       3               1        2         63   \n",
       "\n",
       "     Post_usage_1month  Latest_mon_usage  post_usage_2ndmonth NewCol  \n",
       "0                   52              49.2                 57.2      N  \n",
       "1                   59              63.6                 64.9      O  \n",
       "2                   33              64.8                 36.3      O  \n",
       "3                   44              56.4                 48.4      O  \n",
       "4                   52              68.4                 57.2      O  \n",
       "..                 ...               ...                  ...    ...  \n",
       "195                 59              62.4                 64.9      O  \n",
       "196                 46              45.6                 50.6      O  \n",
       "197                 41              68.4                 45.1      O  \n",
       "198                 62              69.6                 68.2      O  \n",
       "199                 65              78.0                 71.5      O  \n",
       "\n",
       "[200 rows x 11 columns]"
      ]
     },
     "execution_count": 56,
     "metadata": {},
     "output_type": "execute_result"
    }
   ],
   "source": [
    "cust"
   ]
  },
  {
   "cell_type": "code",
   "execution_count": null,
   "id": "00b7803c",
   "metadata": {},
   "outputs": [],
   "source": []
  }
 ],
 "metadata": {
  "kernelspec": {
   "display_name": "Python 3",
   "language": "python",
   "name": "python3"
  },
  "language_info": {
   "codemirror_mode": {
    "name": "ipython",
    "version": 3
   },
   "file_extension": ".py",
   "mimetype": "text/x-python",
   "name": "python",
   "nbconvert_exporter": "python",
   "pygments_lexer": "ipython3",
   "version": "3.8.8"
  }
 },
 "nbformat": 4,
 "nbformat_minor": 5
}
